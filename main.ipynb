{
 "cells": [
  {
   "cell_type": "code",
   "execution_count": 110,
   "metadata": {},
   "outputs": [],
   "source": [
    "import numpy as np\n",
    "import pandas as pd\n",
    "import matplotlib.pyplot as plt\n",
    "import gymnasium as gym\n",
    "import time\n",
    "import random\n",
    "import copy"
   ]
  },
  {
   "cell_type": "code",
   "execution_count": 111,
   "metadata": {},
   "outputs": [],
   "source": [
    "import torch\n",
    "import torch.nn as nn\n",
    "import torch.optim as optim\n",
    "import torch.nn.functional as F"
   ]
  },
  {
   "cell_type": "code",
   "execution_count": 112,
   "metadata": {},
   "outputs": [
    {
     "data": {
      "text/plain": [
       "['CartPole-v0',\n",
       " 'CartPole-v1',\n",
       " 'MountainCar-v0',\n",
       " 'MountainCarContinuous-v0',\n",
       " 'Pendulum-v1',\n",
       " 'Acrobot-v1',\n",
       " 'phys2d/CartPole-v0',\n",
       " 'phys2d/CartPole-v1',\n",
       " 'phys2d/Pendulum-v0',\n",
       " 'LunarLander-v3',\n",
       " 'LunarLanderContinuous-v3',\n",
       " 'BipedalWalker-v3',\n",
       " 'BipedalWalkerHardcore-v3',\n",
       " 'CarRacing-v3',\n",
       " 'Blackjack-v1',\n",
       " 'FrozenLake-v1',\n",
       " 'FrozenLake8x8-v1',\n",
       " 'CliffWalking-v0',\n",
       " 'Taxi-v3',\n",
       " 'tabular/Blackjack-v0',\n",
       " 'tabular/CliffWalking-v0',\n",
       " 'Reacher-v2',\n",
       " 'Reacher-v4',\n",
       " 'Reacher-v5',\n",
       " 'Pusher-v2',\n",
       " 'Pusher-v4',\n",
       " 'Pusher-v5',\n",
       " 'InvertedPendulum-v2',\n",
       " 'InvertedPendulum-v4',\n",
       " 'InvertedPendulum-v5',\n",
       " 'InvertedDoublePendulum-v2',\n",
       " 'InvertedDoublePendulum-v4',\n",
       " 'InvertedDoublePendulum-v5',\n",
       " 'HalfCheetah-v2',\n",
       " 'HalfCheetah-v3',\n",
       " 'HalfCheetah-v4',\n",
       " 'HalfCheetah-v5',\n",
       " 'Hopper-v2',\n",
       " 'Hopper-v3',\n",
       " 'Hopper-v4',\n",
       " 'Hopper-v5',\n",
       " 'Swimmer-v2',\n",
       " 'Swimmer-v3',\n",
       " 'Swimmer-v4',\n",
       " 'Swimmer-v5',\n",
       " 'Walker2d-v2',\n",
       " 'Walker2d-v3',\n",
       " 'Walker2d-v4',\n",
       " 'Walker2d-v5',\n",
       " 'Ant-v2',\n",
       " 'Ant-v3',\n",
       " 'Ant-v4',\n",
       " 'Ant-v5',\n",
       " 'Humanoid-v2',\n",
       " 'Humanoid-v3',\n",
       " 'Humanoid-v4',\n",
       " 'Humanoid-v5',\n",
       " 'HumanoidStandup-v2',\n",
       " 'HumanoidStandup-v4',\n",
       " 'HumanoidStandup-v5',\n",
       " 'GymV21Environment-v0',\n",
       " 'GymV26Environment-v0']"
      ]
     },
     "execution_count": 112,
     "metadata": {},
     "output_type": "execute_result"
    }
   ],
   "source": [
    "# List of environments\n",
    "list(gym.envs.registry.keys())"
   ]
  },
  {
   "cell_type": "code",
   "execution_count": 113,
   "metadata": {},
   "outputs": [
    {
     "name": "stdout",
     "output_type": "stream",
     "text": [
      "0 [ 0.02727336 -0.20172954  0.03625453  0.32351476] 1.0 False False {}\n",
      "1 [ 0.02323877 -0.00714208  0.04272482  0.04248186] 1.0 False False {}\n",
      "2 [ 0.02309593 -0.20284982  0.04357446  0.34833285] 1.0 False False {}\n",
      "3 [ 0.01903893 -0.39856356  0.05054112  0.65443164] 1.0 False False {}\n",
      "4 [ 0.01106766 -0.5943515   0.06362975  0.96259123] 1.0 False False {}\n",
      "5 [-8.1936747e-04 -7.9026806e-01  8.2881577e-02  1.2745659e+00] 1.0 False False {}\n",
      "6 [-0.01662473 -0.59629536  0.1083729   1.008945  ] 1.0 False False {}\n",
      "7 [-0.02855064 -0.7926839   0.1285518   1.3335989 ] 1.0 False False {}\n",
      "8 [-0.04440431 -0.5993953   0.15522377  1.0837486 ] 1.0 False False {}\n",
      "9 [-0.05639222 -0.40662387  0.17689875  0.84352076] 1.0 False False {}\n",
      "10 [-0.0645247  -0.21429996  0.19376916  0.6112743 ] 1.0 False False {}\n",
      "11 [-0.06881069 -0.02233852  0.20599464  0.38533318] 1.0 False False {}\n",
      "12 [-0.06925747  0.16935486  0.21370131  0.1640073 ] 1.0 True False {}\n"
     ]
    }
   ],
   "source": [
    "import gymnasium as gym\n",
    "\n",
    "env = gym.make('CartPole-v1', render_mode='human')\n",
    "env.reset(seed=42)\n",
    "\n",
    "try:\n",
    "    for i in range(100):\n",
    "        env.render()\n",
    "        # time.sleep(0.1)\n",
    "        action = env.action_space.sample()  \n",
    "        observation, reward, terminated, truncated, info = env.step(action)\n",
    "        print(i, observation, reward, terminated, truncated, info)\n",
    "        if terminated:\n",
    "            break\n",
    "finally:\n",
    "    # Always close the environment after use to avoid unresponsiveness\n",
    "    env.close()\n"
   ]
  },
  {
   "cell_type": "code",
   "execution_count": 114,
   "metadata": {},
   "outputs": [],
   "source": [
    "# device = torch.device(\"cuda\" if torch.cuda.is_available() else \"cpu\")"
   ]
  },
  {
   "cell_type": "code",
   "execution_count": null,
   "metadata": {},
   "outputs": [],
   "source": [
    "env = gym.make(\"CartPole-v1\", render_mode=\"rgb_array\")\n",
    "# env = gym.wrappers.RecordVideo(env, video_folder=\"Cartpole Training Videos\", name_prefix=\"train-video\", episode_trigger=lambda e: e % 100 == 0)  # Record every 100 episodes"
   ]
  },
  {
   "cell_type": "markdown",
   "metadata": {},
   "source": [
    "INITIALIZE NETWORKS"
   ]
  },
  {
   "cell_type": "code",
   "execution_count": 116,
   "metadata": {},
   "outputs": [
    {
     "name": "stdout",
     "output_type": "stream",
     "text": [
      "4 2\n"
     ]
    }
   ],
   "source": [
    "input_dim = env.observation_space.shape[0] #4\n",
    "output_dim = env.action_space.n #2\n",
    "print(input_dim,output_dim)"
   ]
  },
  {
   "cell_type": "code",
   "execution_count": 117,
   "metadata": {},
   "outputs": [],
   "source": [
    "Q_net = nn.Sequential(\n",
    "                nn.Linear(input_dim,64),\n",
    "                nn.ReLU(),\n",
    "                nn.Linear(64,64),\n",
    "                nn.ReLU(),\n",
    "                nn.Linear(64,output_dim)\n",
    ")   "
   ]
  },
  {
   "cell_type": "code",
   "execution_count": 118,
   "metadata": {},
   "outputs": [],
   "source": [
    "target_net = copy.deepcopy(Q_net)"
   ]
  },
  {
   "cell_type": "markdown",
   "metadata": {},
   "source": [
    "FUNCTION TO UPDATE TARGET NET"
   ]
  },
  {
   "cell_type": "code",
   "execution_count": 119,
   "metadata": {},
   "outputs": [],
   "source": [
    "def update_target_net(q_network, target_network, tau):\n",
    "    for target_param, q_param in zip(target_network.parameters(), q_network.parameters()):\n",
    "        target_param.data.copy_(tau * q_param.data + (1.0 - tau) * target_param.data)"
   ]
  },
  {
   "cell_type": "markdown",
   "metadata": {},
   "source": [
    "REPLAY BUFFER TO STORE EXPERIENCES"
   ]
  },
  {
   "cell_type": "code",
   "execution_count": 120,
   "metadata": {},
   "outputs": [],
   "source": [
    "buffer_size = 10000\n",
    "replay_buffer = []\n",
    "buffer_counter = 0"
   ]
  },
  {
   "cell_type": "code",
   "execution_count": 121,
   "metadata": {},
   "outputs": [],
   "source": [
    "def push_memory(state, action, reward, next_state, done):\n",
    "    buffer_size = 10000\n",
    "    global buffer_counter\n",
    "    if buffer_counter < buffer_size:\n",
    "        replay_buffer.append((state, action, reward, next_state, done))\n",
    "\n",
    "    else:\n",
    "        replay_buffer[buffer_counter % buffer_size] = (state, action, reward, next_state, done)\n",
    "\n",
    "    buffer_counter += 1"
   ]
  },
  {
   "cell_type": "code",
   "execution_count": 122,
   "metadata": {},
   "outputs": [],
   "source": [
    "def sample_batch(batch_size):\n",
    "    return random.sample(replay_buffer, batch_size)"
   ]
  },
  {
   "cell_type": "markdown",
   "metadata": {},
   "source": [
    "FUNCTION TO SELECT ACTION"
   ]
  },
  {
   "cell_type": "code",
   "execution_count": 123,
   "metadata": {},
   "outputs": [],
   "source": [
    "def select_action(state, q_network, epsilon):\n",
    "    if random.random() < epsilon:\n",
    "        return env.action_space.sample()  # Random action\n",
    "    else:\n",
    "        state_tensor = torch.tensor(state, dtype=torch.float32).unsqueeze(0)  # We need the input dimension to be [batch_size,input_layer_size]\n",
    "        with torch.no_grad():\n",
    "            q_values = q_network(state_tensor)\n",
    "        return torch.argmax(q_values).item()"
   ]
  },
  {
   "cell_type": "markdown",
   "metadata": {},
   "source": [
    "DEFINE HYPERPARAMETERS"
   ]
  },
  {
   "cell_type": "code",
   "execution_count": 124,
   "metadata": {},
   "outputs": [],
   "source": [
    "learning_rate = 0.0001\n",
    "gamma = 0.9\n",
    "epsilon = 1.0\n",
    "epsilon_decay = 0.995\n",
    "min_epsilon = 0.0001\n",
    "batch_size = 64\n",
    "num_episodes = 1200\n",
    "tau = 0.01"
   ]
  },
  {
   "cell_type": "markdown",
   "metadata": {},
   "source": [
    "TRAINING LOOP"
   ]
  },
  {
   "cell_type": "code",
   "execution_count": 125,
   "metadata": {},
   "outputs": [],
   "source": [
    "optimizer = optim.Adam(Q_net.parameters(), lr=learning_rate)\n",
    "loss_func = nn.MSELoss()"
   ]
  },
  {
   "cell_type": "code",
   "execution_count": 126,
   "metadata": {},
   "outputs": [],
   "source": [
    "episodewise_reward = [0]*num_episodes"
   ]
  },
  {
   "cell_type": "code",
   "execution_count": 127,
   "metadata": {},
   "outputs": [
    {
     "name": "stdout",
     "output_type": "stream",
     "text": [
      "Episode 1, Total Reward: 30.0, Epsilon: 0.995, teminated afer 0 steps.\n",
      "Episode 51, Total Reward: 10.0, Epsilon: 0.774, teminated afer 10 steps.\n",
      "Episode 101, Total Reward: 12.0, Epsilon: 0.603, teminated afer 12 steps.\n",
      "Episode 151, Total Reward: 9.0, Epsilon: 0.469, teminated afer 9 steps.\n",
      "Episode 201, Total Reward: 14.0, Epsilon: 0.365, teminated afer 14 steps.\n",
      "Episode 251, Total Reward: 14.0, Epsilon: 0.284, teminated afer 14 steps.\n",
      "Episode 301, Total Reward: 10.0, Epsilon: 0.221, teminated afer 10 steps.\n",
      "Episode 351, Total Reward: 15.0, Epsilon: 0.172, teminated afer 15 steps.\n",
      "Episode 401, Total Reward: 25.0, Epsilon: 0.134, teminated afer 25 steps.\n",
      "Episode 451, Total Reward: 129.0, Epsilon: 0.104, teminated afer 129 steps.\n",
      "Episode 501, Total Reward: 130.0, Epsilon: 0.081, teminated afer 130 steps.\n",
      "Episode 551, Total Reward: 164.0, Epsilon: 0.063, teminated afer 164 steps.\n",
      "Episode 601, Total Reward: 152.0, Epsilon: 0.049, teminated afer 152 steps.\n",
      "Episode 651, Total Reward: 157.0, Epsilon: 0.038, teminated afer 157 steps.\n",
      "Episode 701, Total Reward: 154.0, Epsilon: 0.030, teminated afer 154 steps.\n",
      "Episode 751, Total Reward: 173.0, Epsilon: 0.023, teminated afer 173 steps.\n",
      "Episode 801, Total Reward: 193.0, Epsilon: 0.018, teminated afer 193 steps.\n",
      "Episode 851, Total Reward: 197.0, Epsilon: 0.014, teminated afer 197 steps.\n",
      "Episode 901, Total Reward: 241.0, Epsilon: 0.011, teminated afer 241 steps.\n",
      "Episode 951, Total Reward: 321.0, Epsilon: 0.009, teminated afer 321 steps.\n",
      "Episode 1001, Total Reward: 331.0, Epsilon: 0.007, teminated afer 331 steps.\n",
      "Episode 1051, Total Reward: 266.0, Epsilon: 0.005, teminated afer 266 steps.\n",
      "Episode 1101, Total Reward: 248.0, Epsilon: 0.004, teminated afer 248 steps.\n",
      "Episode 1151, Total Reward: 242.0, Epsilon: 0.003, teminated afer 242 steps.\n"
     ]
    }
   ],
   "source": [
    "for episode in range(num_episodes):\n",
    "    state, _ = env.reset()\n",
    "    done = False\n",
    "    total_reward = 0\n",
    "    step_counter = 0\n",
    "    \n",
    "    while not done:\n",
    "        # Select action\n",
    "        action = select_action(state, Q_net, epsilon)\n",
    "        \n",
    "        # Take action in environment\n",
    "        next_state, reward, done, _, _ = env.step(action)\n",
    "        total_reward += reward\n",
    "        episodewise_reward[episode]+=reward\n",
    "        \n",
    "        # Store experiences in replay buffer\n",
    "        push_memory(state, action, reward, next_state, done)\n",
    "        \n",
    "        # Sample a batch from the memory/buffer\n",
    "        if len(replay_buffer) >= batch_size:\n",
    "            batch = sample_batch(batch_size)\n",
    "            states, actions, rewards, next_states, dones = zip(*batch)\n",
    "            \n",
    "            states_tensor = torch.tensor(states, dtype=torch.float32)\n",
    "            actions_tensor = torch.tensor(actions, dtype=torch.long)\n",
    "            rewards_tensor = torch.tensor(rewards, dtype=torch.float32)\n",
    "            next_states_tensor = torch.tensor(next_states, dtype=torch.float32)\n",
    "            dones_tensor = torch.tensor(dones, dtype=torch.float32)\n",
    "            \n",
    "            # Compute Q-values from Q network and Target Network\n",
    "            q_values = Q_net(states_tensor)\n",
    "            next_q_values = target_net(next_states_tensor)\n",
    "            \n",
    "            # Compute the target Q-value\n",
    "            next_q_value = next_q_values.max(dim=1)[0]\n",
    "            target_q_value = rewards_tensor + (gamma * next_q_value * (1 - dones_tensor))\n",
    "            \n",
    "            # Compute the MSE loss\n",
    "            q_value = q_values.gather(1, actions_tensor.unsqueeze(1)).squeeze(1)\n",
    "            loss = loss_func(q_value, target_q_value)\n",
    "            \n",
    "            # Backpropagation and optimization\n",
    "            optimizer.zero_grad()\n",
    "            loss.backward()\n",
    "            optimizer.step()\n",
    "\n",
    "            #Update the step counter\n",
    "            step_counter+=1\n",
    "        \n",
    "        # Update the state\n",
    "        state = next_state\n",
    "    \n",
    "    # Decay epsilon\n",
    "    epsilon = max(min_epsilon, epsilon * epsilon_decay)\n",
    "    \n",
    "    # Softly update the target network\n",
    "    update_target_net(Q_net, target_net, tau)\n",
    "    \n",
    "    env.render()\n",
    "    \n",
    "    # Print progress\n",
    "    if episode % 50 == 0:\n",
    "        print(f\"Episode {episode+1}, Total Reward: {total_reward}, Epsilon: {epsilon:.3f}, teminated afer {step_counter} steps.\")\n",
    "\n",
    "env.close()"
   ]
  },
  {
   "cell_type": "markdown",
   "metadata": {},
   "source": [
    "PLOT EPISODE VS REWARD PLOT"
   ]
  },
  {
   "cell_type": "code",
   "execution_count": 128,
   "metadata": {},
   "outputs": [
    {
     "data": {
      "image/png": "[encoded data removed]",
      "text/plain": [
       "<Figure size 640x480 with 1 Axes>"
      ]
     },
     "metadata": {},
     "output_type": "display_data"
    }
   ],
   "source": [
    "x = [i+1 for i in range(num_episodes)]\n",
    "y = episodewise_reward\n",
    "plt.plot(x,y)\n",
    "plt.xlabel(\"Episode Number\")\n",
    "plt.ylabel(\"Reward\")\n",
    "plt.title(\"Episode V Reward\")\n",
    "plt.yticks([0,100,200,300,400,500,600])\n",
    "plt.savefig('reward_plot.png', dpi=300)\n",
    "plt.show()"
   ]
  },
  {
   "cell_type": "code",
   "execution_count": 129,
   "metadata": {},
   "outputs": [
    {
     "data": {
      "image/png": "[encoded data removed]",
      "text/plain": [
       "<Figure size 640x480 with 1 Axes>"
      ]
     },
     "metadata": {},
     "output_type": "display_data"
    }
   ],
   "source": [
    "pd.Series(episodewise_reward).rolling(100).mean().plot(color='red')\n",
    "plt.xlabel('Episode Number')\n",
    "plt.ylabel('Rolling Average Reward')\n",
    "plt.title('Episode V Average Reward')\n",
    "plt.yticks([0,100,200,300,400,500,600])\n",
    "plt.savefig('rolling_average_reward_plot.png', dpi=300)\n",
    "plt.show()"
   ]
  },
  {
   "cell_type": "markdown",
   "metadata": {},
   "source": [
    "AFTER TRAINING THE AGENT"
   ]
  },
  {
   "cell_type": "code",
   "execution_count": 132,
   "metadata": {},
   "outputs": [
    {
     "name": "stdout",
     "output_type": "stream",
     "text": [
      "0 [-0.00546628 -0.17209007  0.00552926  0.2964793 ] 1.0 False False {}\n",
      "1 [-0.00890809 -0.3672904   0.01145884  0.5909009 ] 1.0 False False {}\n",
      "2 [-0.01625389 -0.17233075  0.02327686  0.30184945] 1.0 False False {}\n",
      "3 [-0.01970051 -0.36777657  0.02931385  0.6017816 ] 1.0 False False {}\n",
      "4 [-0.02705604 -0.17307667  0.04134948  0.31847423] 1.0 False False {}\n",
      "5 [-0.03051757 -0.3687624   0.04771896  0.6239052 ] 1.0 False False {}\n",
      "6 [-0.03789282 -0.17433803  0.06019707  0.34662467] 1.0 False False {}\n",
      "7 [-0.04137958 -0.37026227  0.06712956  0.65766597] 1.0 False False {}\n",
      "8 [-0.04878483 -0.17613578  0.08028288  0.38685337] 1.0 False False {}\n",
      "9 [-0.05230754  0.0177602   0.08801995  0.120524  ] 1.0 False False {}\n",
      "10 [-0.05195234  0.21151802  0.09043043 -0.14314312] 1.0 False False {}\n",
      "11 [-0.04772198  0.40523633  0.08756757 -0.40598294] 1.0 False False {}\n",
      "12 [-0.03961725  0.59901446  0.07944791 -0.6698245 ] 1.0 False False {}\n",
      "13 [-0.02763696  0.7929472   0.06605142 -0.9364728 ] 1.0 False False {}\n",
      "14 [-0.01177802  0.98711914  0.04732196 -1.2076907 ] 1.0 False False {}\n",
      "15 [ 0.00796436  1.1815989   0.02316815 -1.4851763 ] 1.0 False False {}\n",
      "16 [ 0.03159634  0.98620236 -0.00653538 -1.1853492 ] 1.0 False False {}\n",
      "17 [ 0.05132039  0.79116577 -0.03024236 -0.89472204] 1.0 False False {}\n",
      "18 [ 0.0671437   0.5964667  -0.0481368  -0.61169684] 1.0 False False {}\n",
      "19 [ 0.07907304  0.4020494  -0.06037074 -0.33455548] 1.0 False False {}\n",
      "20 [ 0.08711403  0.2078363  -0.06706185 -0.06150475] 1.0 False False {}\n",
      "21 [ 0.09127075  0.01373676 -0.06829195  0.2092887 ] 1.0 False False {}\n",
      "22 [ 0.09154548 -0.18034561 -0.06410617  0.47967142] 1.0 False False {}\n",
      "23 [ 0.08793858 -0.37450677 -0.05451274  0.75148064] 1.0 False False {}\n",
      "24 [ 0.08044844 -0.17867714 -0.03948313  0.44215372] 1.0 False False {}\n",
      "25 [ 0.0768749  -0.37321877 -0.03064005  0.7221337 ] 1.0 False False {}\n",
      "26 [ 0.06941052 -0.1776867  -0.01619738  0.4199665 ] 1.0 False False {}\n",
      "27 [ 0.06585678 -0.37257543 -0.00779805  0.70749944] 1.0 False False {}\n",
      "28 [ 0.05840528 -0.17734633  0.00635194  0.41237208] 1.0 False False {}\n",
      "29 [ 0.05485835 -0.37255776  0.01459938  0.70705074] 1.0 False False {}\n",
      "30 [ 0.04740719 -0.17764106  0.02874039  0.41899896] 1.0 False False {}\n",
      "31 [ 0.04385437 -0.37315825  0.03712038  0.7206021 ] 1.0 False False {}\n",
      "32 [ 0.03639121 -0.17856897  0.05153242  0.43983015] 1.0 False False {}\n",
      "33 [0.03281983 0.01578723 0.06032902 0.16382669] 1.0 False False {}\n",
      "34 [ 0.03313557 -0.18014413  0.06360555  0.47491506] 1.0 False False {}\n",
      "35 [0.02953269 0.01402466 0.07310385 0.20293823] 1.0 False False {}\n",
      "36 [ 0.02981319  0.20802914  0.07716262 -0.06581783] 1.0 False False {}\n",
      "37 [ 0.03397377  0.40196484  0.07584626 -0.3331925 ] 1.0 False False {}\n",
      "38 [ 0.04201306  0.5959299   0.06918241 -0.60102624] 1.0 False False {}\n",
      "39 [ 0.05393166  0.7900194   0.05716189 -0.87114054] 1.0 False False {}\n",
      "40 [ 0.06973206  0.9843192   0.03973908 -1.1453179 ] 1.0 False False {}\n",
      "41 [ 0.08941843  0.7887014   0.01683272 -0.84044254] 1.0 False False {}\n",
      "42 [ 1.0519247e-01  5.9335375e-01  2.3868533e-05 -5.4251397e-01] 1.0 False False {}\n",
      "43 [ 0.11705954  0.39823145 -0.01082641 -0.24982354] 1.0 False False {}\n",
      "44 [ 0.12502417  0.20326576 -0.01582288  0.03942495] 1.0 False False {}\n",
      "45 [ 0.12908949  0.00837424 -0.01503438  0.3270739 ] 1.0 False False {}\n",
      "46 [ 0.12925696 -0.18653047 -0.0084929   0.614978  ] 1.0 False False {}\n",
      "47 [0.12552635 0.00870911 0.00380666 0.3196323 ] 1.0 False False {}\n",
      "48 [ 0.12570053 -0.18646686  0.0101993   0.6135133 ] 1.0 False False {}\n",
      "49 [0.1219712  0.0085111  0.02246957 0.32406008] 1.0 False False {}\n",
      "50 [ 0.12214143 -0.18692347  0.02895077  0.6237434 ] 1.0 False False {}\n",
      "51 [0.11840296 0.00778257 0.04142564 0.3403171 ] 1.0 False False {}\n",
      "52 [0.11855861 0.20229135 0.04823198 0.06097988] 1.0 False False {}\n",
      "53 [ 0.12260444  0.39668977  0.04945158 -0.21610393] 1.0 False False {}\n",
      "54 [ 0.13053823  0.5910712   0.0451295  -0.49278674] 1.0 False False {}\n",
      "55 [ 0.14235966  0.78552854  0.03527376 -0.7709122 ] 1.0 False False {}\n",
      "56 [ 0.15807022  0.9801477   0.01985552 -1.0522912 ] 1.0 False False {}\n",
      "57 [ 0.17767318  0.78476816 -0.0011903  -0.7534424 ] 1.0 False False {}\n",
      "58 [ 0.19336854  0.5896627  -0.01625915 -0.46113428] 1.0 False False {}\n",
      "59 [ 0.2051618   0.39477426 -0.02548184 -0.17362028] 1.0 False False {}\n",
      "60 [ 0.21305728  0.2000261  -0.02895424  0.11091626] 1.0 False False {}\n",
      "61 [ 0.21705781  0.00533075 -0.02673592  0.39432552] 1.0 False False {}\n",
      "62 [ 0.21716441 -0.18940182 -0.01884941  0.67846054] 1.0 False False {}\n",
      "63 [ 0.21337639  0.00597685 -0.0052802   0.37990323] 1.0 False False {}\n",
      "64 [ 0.21349593 -0.18906972  0.00231787  0.6709166 ] 1.0 False False {}\n",
      "65 [0.20971452 0.00601993 0.0157362  0.3789644 ] 1.0 False False {}\n",
      "66 [0.20983492 0.2009149  0.02331549 0.09128436] 1.0 False False {}\n",
      "67 [ 0.21385323  0.39569506  0.02514118 -0.19395229] 1.0 False False {}\n",
      "68 [0.22176713 0.20022264 0.02126213 0.10655437] 1.0 False False {}\n",
      "69 [ 0.22577158  0.39503354  0.02339322 -0.17934534] 1.0 False False {}\n",
      "70 [0.23367225 0.19958478 0.01980631 0.12062456] 1.0 False False {}\n",
      "71 [ 0.23766394  0.39441746  0.0222188  -0.16574444] 1.0 False False {}\n",
      "72 [0.24555229 0.19898461 0.01890391 0.13386427] 1.0 False False {}\n",
      "73 [ 0.24953198  0.39383075  0.0215812  -0.15279531] 1.0 False False {}\n",
      "74 [0.2574086  0.19840655 0.01852529 0.14661713] 1.0 False False {}\n",
      "75 [ 0.26137674  0.39325836  0.02145763 -0.14016435] 1.0 False False {}\n",
      "76 [ 0.2692419   0.5880665   0.01865435 -0.42600125] 1.0 False False {}\n",
      "77 [ 0.28100324  0.39268538  0.01013432 -0.12749647] 1.0 False False {}\n",
      "78 [0.28885692 0.19741973 0.00758439 0.16836642] 1.0 False False {}\n",
      "79 [0.2928053  0.00219005 0.01095172 0.4634323 ] 1.0 False False {}\n",
      "80 [0.29284912 0.19715554 0.02022037 0.17422137] 1.0 False False {}\n",
      "81 [ 0.29679224  0.39198235  0.0237048  -0.11201473] 1.0 False False {}\n",
      "82 [ 0.3046319   0.58675677  0.0214645  -0.3971257 ] 1.0 False False {}\n",
      "83 [ 0.31636703  0.39133695  0.01352199 -0.09775344] 1.0 False False {}\n",
      "84 [0.32419378 0.19602382 0.01156692 0.1991648 ] 1.0 False False {}\n",
      "85 [ 0.32811424  0.39097846  0.01555021 -0.08984698] 1.0 False False {}\n",
      "86 [ 0.3359338   0.5858741   0.01375327 -0.37758353] 1.0 False False {}\n",
      "87 [ 0.3476513   0.39055955  0.0062016  -0.08059607] 1.0 False False {}\n",
      "88 [0.3554625  0.19534925 0.00458968 0.21403702] 1.0 False False {}\n",
      "89 [3.5936946e-01 1.6197619e-04 8.8704228e-03 5.0816417e-01] 1.0 False False {}\n",
      "90 [0.3593727  0.19515783 0.01903371 0.21828978] 1.0 False False {}\n",
      "91 [ 0.36327586  0.3900026   0.0233995  -0.06832885] 1.0 False False {}\n",
      "92 [ 0.3710759   0.5847814   0.02203293 -0.35353824] 1.0 False False {}\n",
      "93 [ 0.38277155  0.3893532   0.01496216 -0.05398992] 1.0 False False {}\n",
      "94 [ 0.3905586   0.5842574   0.01388236 -0.34191486] 1.0 False False {}\n",
      "95 [ 0.40224376  0.38894075  0.00704406 -0.04488679] 1.0 False False {}\n",
      "96 [0.41002256 0.19371851 0.00614633 0.25001025] 1.0 False False {}\n",
      "97 [ 0.41389695  0.38875216  0.01114653 -0.04072767] 1.0 False False {}\n",
      "98 [0.421672   0.19347215 0.01033198 0.25545114] 1.0 False False {}\n",
      "99 [ 0.42554143  0.38844508  0.015441   -0.03395508] 1.0 False False {}\n",
      "100 [ 0.43331033  0.58334225  0.0147619  -0.3217265 ] 1.0 False False {}\n",
      "101 [ 0.44497716  0.3880132   0.00832737 -0.02442504] 1.0 False False {}\n",
      "102 [0.45273742 0.19277284 0.00783887 0.2708736 ] 1.0 False False {}\n",
      "103 [ 0.4565929  -0.0024601   0.01325634  0.5660186 ] 1.0 False False {}\n",
      "104 [0.45654368 0.1924734  0.02457671 0.27754128] 1.0 False False {}\n",
      "105 [ 0.46039316  0.38723627  0.03012754 -0.00728996] 1.0 False False {}\n",
      "106 [ 0.4681379   0.5819135   0.02998174 -0.29031712] 1.0 False False {}\n",
      "107 [0.47977614 0.38637713 0.0241754  0.01166892] 1.0 False False {}\n",
      "108 [ 0.4875037   0.58114415  0.02440878 -0.2732894 ] 1.0 False False {}\n",
      "109 [0.49912658 0.3856826  0.01894299 0.02699107] 1.0 False False {}\n",
      "110 [ 0.5068402   0.58052784  0.01948281 -0.25965545] 1.0 False False {}\n",
      "111 [0.5184508  0.38513327 0.0142897  0.03910839] 1.0 False False {}\n",
      "112 [ 0.52615345  0.5800474   0.01507187 -0.24903196] 1.0 False False {}\n",
      "113 [0.5377544  0.3847135  0.01009123 0.04836659] 1.0 False False {}\n",
      "114 [ 0.54544866  0.5796893   0.01105856 -0.24111547] 1.0 False False {}\n",
      "115 [0.5570425  0.38441116 0.00623625 0.05503502] 1.0 False False {}\n",
      "116 [ 0.5647307   0.57944316  0.00733695 -0.23567382] 1.0 False False {}\n",
      "117 [0.5763195  0.38421714 0.00262348 0.05931435] 1.0 False False {}\n",
      "118 [ 0.58400387  0.57930136  0.00380976 -0.2325397 ] 1.0 False False {}\n",
      "119 [ 0.59558994  0.38412517 -0.00084103  0.06134252] 1.0 False False {}\n",
      "120 [ 6.0327244e-01  5.7925922e-01  3.8581991e-04 -2.3160565e-01] 1.0 False False {}\n",
      "121 [ 0.6148576   0.38413173 -0.00424629  0.06119896] 1.0 False False {}\n",
      "122 [ 0.62254024  0.5793143  -0.00302231 -0.23282067] 1.0 False False {}\n",
      "123 [ 0.63412654  0.38423565 -0.00767873  0.05890739] 1.0 False False {}\n",
      "124 [ 0.64181125  0.18922465 -0.00650058  0.34915778] 1.0 False False {}\n",
      "125 [ 6.4559573e-01 -5.8042482e-03  4.8257597e-04  6.3978380e-01] 1.0 False False {}\n",
      "126 [0.6454796  0.18931097 0.01327825 0.34725285] 1.0 False False {}\n",
      "127 [0.6492659  0.38424155 0.02022331 0.05878643] 1.0 False False {}\n",
      "128 [ 0.6569507   0.5790678   0.02139904 -0.22744791] 1.0 False False {}\n",
      "129 [0.6685321  0.38364667 0.01685008 0.0719075 ] 1.0 False False {}\n",
      "130 [ 0.676205    0.57852304  0.01828823 -0.21541189] 1.0 False False {}\n",
      "131 [0.68777543 0.3831445  0.01397999 0.08298339] 1.0 False False {}\n",
      "132 [ 0.6954383   0.5780633   0.01563966 -0.20525624] 1.0 False False {}\n",
      "133 [0.7069996  0.38272122 0.01153453 0.0923189 ] 1.0 False False {}\n",
      "134 [ 0.714654    0.57767594  0.01338091 -0.19670267] 1.0 False False {}\n",
      "135 [0.72620755 0.3823652  0.00944686 0.10017111] 1.0 False False {}\n",
      "136 [ 0.73385483  0.5773505   0.01145028 -0.18951644] 1.0 False False {}\n",
      "137 [0.74540186 0.3820666  0.00765995 0.10675648] 1.0 False False {}\n",
      "138 [ 0.7530432   0.5770779   0.00979508 -0.18349996] 1.0 False False {}\n",
      "139 [0.7645847  0.38181722 0.00612508 0.11225678] 1.0 False False {}\n",
      "140 [ 0.7722211   0.5768509   0.00837022 -0.17848743] 1.0 False False {}\n",
      "141 [0.7837581  0.38161016 0.00480047 0.1168242 ] 1.0 False False {}\n",
      "142 [ 0.7913903   0.576663    0.00713695 -0.17434035] 1.0 False False {}\n",
      "143 [0.80292356 0.38143963 0.00365015 0.12058548] 1.0 False False {}\n",
      "144 [ 0.81055236  0.5765091   0.00606186 -0.17094363] 1.0 False False {}\n",
      "145 [0.8220825  0.3813009  0.00264298 0.12364545] 1.0 False False {}\n",
      "146 [0.8297086  0.1861412  0.00511589 0.41716105] 1.0 False False {}\n",
      "147 [0.83343136 0.38119027 0.01345911 0.12609531] 1.0 False False {}\n",
      "148 [ 0.8410552   0.57611686  0.01598102 -0.16231121] 1.0 False False {}\n",
      "149 [0.8525775  0.38076982 0.01273479 0.13537015] 1.0 False False {}\n",
      "150 [ 0.86019295  0.5757071   0.0154422  -0.15326808] 1.0 False False {}\n",
      "151 [0.8717071  0.38036743 0.01237684 0.14424624] 1.0 False False {}\n",
      "152 [ 0.8793144   0.57531     0.01526176 -0.14450647] 1.0 False False {}\n",
      "153 [0.8908206  0.37997282 0.01237163 0.15295191] 1.0 False False {}\n",
      "154 [ 0.8984201   0.57491547  0.01543067 -0.13580249] 1.0 False False {}\n",
      "155 [0.90991837 0.37957594 0.01271462 0.16170835] 1.0 False False {}\n",
      "156 [ 0.9175099   0.57451355  0.01594879 -0.12693648] 1.0 False False {}\n",
      "157 [0.9290002  0.3791668  0.01341006 0.17073514] 1.0 False False {}\n",
      "158 [ 0.9365835   0.5740943   0.01682476 -0.11768734] 1.0 False False {}\n",
      "159 [0.9480654  0.37873536 0.01447101 0.18025582] 1.0 False False {}\n",
      "160 [ 0.9556401   0.57364726  0.01807613 -0.10782712] 1.0 False False {}\n",
      "161 [0.967113   0.378271   0.01591959 0.19050348] 1.0 False False {}\n",
      "162 [ 0.97467846  0.57316166  0.01972966 -0.09711526] 1.0 False False {}\n",
      "163 [0.9861417  0.37776256 0.01778735 0.20172647] 1.0 False False {}\n",
      "164 [ 0.9936969   0.5726257   0.02182188 -0.08529275] 1.0 False False {}\n",
      "165 [1.0051495  0.37719783 0.02011603 0.21419436] 1.0 False False {}\n",
      "166 [ 1.0126934   0.5720265   0.02439991 -0.07207581] 1.0 False False {}\n",
      "167 [1.0241339  0.3765634  0.0229584  0.22820443] 1.0 False False {}\n",
      "168 [ 1.0316652   0.57134986  0.02752249 -0.05714909] 1.0 False False {}\n",
      "169 [1.0430923  0.3758443  0.0263795  0.24408875] 1.0 False False {}\n",
      "170 [ 1.0506091   0.5705797   0.03126128 -0.04015808] 1.0 False False {}\n",
      "171 [1.0620207  0.37502378 0.03045812 0.26222187] 1.0 False False {}\n",
      "172 [ 1.0695212   0.56969804  0.03570255 -0.02070076] 1.0 False False {}\n",
      "173 [1.0809151  0.3740827  0.03528854 0.2830295 ] 1.0 False False {}\n",
      "174 [1.0883968  0.56868404 0.04094913 0.00168195] 1.0 False False {}\n",
      "175 [1.0997704  0.37299946 0.04098277 0.3069984 ] 1.0 False False {}\n",
      "176 [1.1072304  0.5675142  0.04712274 0.02751687] 1.0 False False {}\n",
      "177 [1.1185807  0.37174925 0.04767307 0.33468726] 1.0 False False {}\n",
      "178 [1.1260158  0.56616145 0.05436682 0.05741089] 1.0 False False {}\n",
      "179 [ 1.137339    0.7604634   0.05551504 -0.21763548] 1.0 False False {}\n",
      "180 [1.1525482  0.5645936  0.05116233 0.09202962] 1.0 False False {}\n",
      "181 [ 1.16384     0.75894636  0.05300292 -0.18408282] 1.0 False False {}\n",
      "182 [1.179019   0.56310767 0.04932126 0.12483825] 1.0 False False {}\n",
      "183 [ 1.1902812   0.75748956  0.05181803 -0.15188551] 1.0 False False {}\n",
      "184 [1.205431   0.5616654  0.04878032 0.15668415] 1.0 False False {}\n",
      "185 [ 1.2166643   0.75605625  0.051914   -0.12021952] 1.0 False False {}\n",
      "186 [1.2317854  0.56023043 0.04950961 0.18837933] 1.0 False False {}\n",
      "187 [ 1.24299     0.75461036  0.0532772  -0.08828343] 1.0 False False {}\n",
      "188 [1.2580823  0.55876684 0.05151153 0.22072114] 1.0 False False {}\n",
      "189 [ 1.2692575   0.7531161   0.05592595 -0.05527836] 1.0 False False {}\n",
      "190 [1.2843199  0.5572387  0.05482038 0.254512  ] 1.0 False False {}\n",
      "191 [ 1.2954646   0.7515368   0.05991063 -0.02038818] 1.0 False False {}\n",
      "192 [1.3104954  0.5556091  0.05950286 0.29057926] 1.0 False False {}\n",
      "193 [1.3216076  0.74983436 0.06531445 0.01724051] 1.0 False False {}\n",
      "194 [1.3366042  0.5538395  0.06565925 0.32979476] 1.0 False False {}\n",
      "195 [1.347681   0.7479683  0.07225515 0.05851896] 1.0 False False {}\n",
      "196 [ 1.3626404   0.9419839   0.07342553 -0.21052049] 1.0 False False {}\n",
      "197 [1.3814801  0.74589306 0.06921512 0.10439091] 1.0 False False {}\n",
      "198 [ 1.396398    0.93995833  0.07130294 -0.16567701] 1.0 False False {}\n",
      "199 [1.4151971  0.743892   0.0679894  0.14862053] 1.0 False False {}\n",
      "200 [ 1.4300749   0.9379778   0.07096181 -0.12186207] 1.0 False False {}\n",
      "201 [1.4488345  0.7419147  0.06852457 0.19233766] 1.0 False False {}\n",
      "202 [ 1.4636728   0.9359929   0.07237132 -0.07796592] 1.0 False False {}\n",
      "203 [1.4823927  0.7399121  0.070812   0.23664397] 1.0 False False {}\n",
      "204 [ 1.497191    0.93395466  0.07554489 -0.03288913] 1.0 False False {}\n",
      "205 [1.51587    0.7378352  0.0748871  0.28264007] 1.0 False False {}\n",
      "206 [1.5306267  0.9318136  0.0805399  0.01448427] 1.0 False False {}\n",
      "207 [ 1.549263    1.1256937   0.08082959 -0.25173998] 1.0 False False {}\n",
      "208 [1.5717769  0.9295161  0.07579479 0.06530362] 1.0 False False {}\n",
      "209 [ 1.5903672   1.1234741   0.07710086 -0.20253581] 1.0 False False {}\n",
      "210 [1.6128366  0.9273391  0.07305014 0.113438  ] 1.0 False False {}\n",
      "211 [ 1.6313834   1.1213424   0.0753189  -0.15533324] 1.0 False False {}\n",
      "212 [1.6538103  0.92522734 0.07221224 0.16012812] 1.0 False False {}\n",
      "213 [ 1.6723149  1.1192452  0.0754148 -0.1089282] 1.0 False False {}\n",
      "214 [1.6946998  0.92312807 0.07323623 0.2065622 ] 1.0 False False {}\n",
      "215 [ 1.7131623   1.1171305   0.07736748 -0.06214917] 1.0 False False {}\n",
      "216 [ 1.7355049   1.3110628   0.0761245  -0.32945412] 1.0 False False {}\n",
      "217 [ 1.7617261   1.1149445   0.06953541 -0.01376946] 1.0 False False {}\n",
      "218 [ 1.7840251   1.3090038   0.06926002 -0.28372815] 1.0 False False {}\n",
      "219 [1.8102051  1.112966   0.06358546 0.02996991] 1.0 False False {}\n",
      "220 [ 1.8324645   1.307121    0.06418486 -0.2419928 ] 1.0 False False {}\n",
      "221 [1.8586068  1.1111438  0.059345   0.07022519] 1.0 False False {}\n",
      "222 [ 1.8808297   1.305367    0.06074951 -0.20315948] 1.0 False False {}\n",
      "223 [1.9069371  1.1094311  0.05668632 0.10805137] 1.0 False False {}\n",
      "224 [ 1.9291257   1.303697    0.05884735 -0.16622233] 1.0 False False {}\n",
      "225 [1.9551996 1.1077842 0.0555229 0.1444293] 1.0 False False {}\n",
      "226 [ 1.9773554   1.3020688   0.05841149 -0.13023326] 1.0 False False {}\n",
      "227 [2.0033967  1.1061609  0.05580682 0.18029068] 1.0 False False {}\n",
      "228 [ 2.0255198   1.3004417   0.05941263 -0.09427814] 1.0 False False {}\n",
      "229 [2.0515287  1.1045207  0.05752707 0.2165418 ] 1.0 False False {}\n",
      "230 [ 2.0736191   1.2987751   0.06185791 -0.05745415] 1.0 False False {}\n",
      "231 [2.0995946  1.1028233  0.06070882 0.25408608] 1.0 False False {}\n",
      "232 [ 2.1216512   1.2970282   0.06579055 -0.01884727] 1.0 False False {}\n",
      "233 [ 2.1475916  1.491148   0.0654136 -0.2900685] 1.0 False False {}\n",
      "234 [2.1774147  1.2951572  0.05961223 0.02250676] 1.0 False False {}\n",
      "235 [2.2033179  1.0992333  0.06006236 0.33338627] 1.0 False False {}\n",
      "236 [2.2253025  1.2934513  0.06673009 0.06023239] 1.0 False False {}\n",
      "237 [2.2511716  1.0974392  0.06793474 0.37320027] 1.0 False False {}\n",
      "238 [2.2731202  1.2915336  0.07539874 0.10268763] 1.0 False False {}\n",
      "239 [2.298951   1.0954165  0.0774525  0.41817355] 1.0 False False {}\n",
      "240 [2.3208592  1.2893604  0.08581597 0.1508782 ] 1.0 False False {}\n",
      "241 [2.3466465  1.0931212  0.08883353 0.4693528 ] 1.0 False False {}\n",
      "242 [2.3685088  1.2868834  0.09822059 0.20593838] 1.0 False False {}\n",
      "243 [2.3942466  1.090504   0.10233936 0.52791804] 1.0 False False {}\n",
      "244 [2.4160566  1.2840484  0.11289772 0.2691556 ] 1.0 True False {}\n"
     ]
    }
   ],
   "source": [
    "env = gym.make('CartPole-v1', render_mode='human')\n",
    "state , _ = env.reset()\n",
    "\n",
    "try:\n",
    "    for i in range(500):\n",
    "        env.render()\n",
    "        # time.sleep(0.1)\n",
    "        with torch.no_grad():\n",
    "            q_values = Q_net(torch.tensor(state, dtype=torch.float32))\n",
    "        action = torch.argmax(q_values).item()\n",
    "        observation, reward, terminated, truncated, info = env.step(action)\n",
    "        print(i, observation, reward, terminated, truncated, info)\n",
    "        state = observation\n",
    "        if terminated:\n",
    "            break\n",
    "finally:\n",
    "    # Always close the environment after use to avoid unresponsiveness\n",
    "    env.close()"
   ]
  }
 ],
 "metadata": {
  "kernelspec": {
   "display_name": "myenv",
   "language": "python",
   "name": "python3"
  },
  "language_info": {
   "codemirror_mode": {
    "name": "ipython",
    "version": 3
   },
   "file_extension": ".py",
   "mimetype": "text/x-python",
   "name": "python",
   "nbconvert_exporter": "python",
   "pygments_lexer": "ipython3",
   "version": "3.10.0"
  }
 },
 "nbformat": 4,
 "nbformat_minor": 2
}
